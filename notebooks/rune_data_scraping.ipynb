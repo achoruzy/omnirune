{
 "cells": [
  {
   "cell_type": "code",
   "execution_count": 1,
   "metadata": {},
   "outputs": [],
   "source": [
    "from duckduckgo_search import ddg_images"
   ]
  },
  {
   "cell_type": "code",
   "execution_count": 2,
   "metadata": {},
   "outputs": [],
   "source": [
    "rune_names = ['Ansuz', 'Berkanan', 'Kaunan', 'Dagaz', 'Ehwaz', 'Fehu', 'Gebo',\n",
    "'Hagalaz', 'Isa', 'Jera', 'Kaunaz', 'Laguz', 'Mannaz', 'Nauthiz', 'Othila', 'Peorth', 'Raido', 'Sowulo',\n",
    "'Teiwaz', 'Uruz', 'Wunjo', 'Algiz', 'Eiwaz', 'Thurisaz', 'Inguz']"
   ]
  },
  {
   "cell_type": "code",
   "execution_count": 4,
   "metadata": {},
   "outputs": [],
   "source": [
    "keyword = f'{rune_names[0].lower()} rune'\n",
    "runes = ddg_images(keywords=rune_names[0].lower(), max_results=10)"
   ]
  },
  {
   "cell_type": "code",
   "execution_count": 5,
   "metadata": {},
   "outputs": [
    {
     "data": {
      "text/plain": [
       "[{'title': 'Ansuz',\n",
       "  'image': 'http://3.bp.blogspot.com/-SVgWljIjp8c/TpTQGif2e0I/AAAAAAAAAB8/UDGlmdk-6SA/w1200-h630-p-k-no-nu/AAAAAAAAAAAAAAAAAAAAAAAAAAAAAAAAAAAAAA.jpg',\n",
       "  'thumbnail': 'https://tse2.mm.bing.net/th?id=OIP.B9uzQS4DyyvNaLEcbVwqYQAAAA&pid=Api',\n",
       "  'url': 'http://whispersofyggdrasil.blogspot.com/2011/10/ansuz.html',\n",
       "  'height': 302,\n",
       "  'width': 250,\n",
       "  'source': 'Bing'},\n",
       " {'title': 'Ansuz - The Birch Grove',\n",
       "  'image': 'https://i0.wp.com/thebirchgrove.com/wp-content/uploads/2016/01/ansuz.jpg',\n",
       "  'thumbnail': 'https://tse3.mm.bing.net/th?id=OIP.dZcEdHNbKlPIWhIBU0V99AHaI8&pid=Api',\n",
       "  'url': 'http://thebirchgrove.com/2016/01/25/ansuz/',\n",
       "  'height': 302,\n",
       "  'width': 250,\n",
       "  'source': 'Bing'},\n",
       " {'title': 'Ansuz',\n",
       "  'image': 'https://3.bp.blogspot.com/-SVgWljIjp8c/TpTQGif2e0I/AAAAAAAAAB8/UDGlmdk-6SA/s1600/AAAAAAAAAAAAAAAAAAAAAAAAAAAAAAAAAAAAAA.jpg',\n",
       "  'thumbnail': 'https://tse3.mm.bing.net/th?id=OIP.V_-bxFsmooJtRL6La59U9wAAAA&pid=Api',\n",
       "  'url': 'https://whispersofyggdrasil.blogspot.com/2011/10/ansuz.html',\n",
       "  'height': 302,\n",
       "  'width': 250,\n",
       "  'source': 'Bing'},\n",
       " {'title': 'Ansuz Rune Meaning - Pagan and Viking Merch',\n",
       "  'image': 'https://honortheroots.com/wp-content/uploads/2016/11/4-ANSUZ.png',\n",
       "  'thumbnail': 'https://tse3.mm.bing.net/th?id=OIP.0-e0GexF6ufgEivsEwFwJgHaJ4&pid=Api',\n",
       "  'url': 'https://honortheroots.com/symbols-2/what-are-the-runes/ansuz-rune-meaning/',\n",
       "  'height': 800,\n",
       "  'width': 600,\n",
       "  'source': 'Bing'},\n",
       " {'title': 'Ansuz ID by NurIzin on DeviantArt',\n",
       "  'image': 'https://pre00.deviantart.net/0439/th/pre/i/2012/359/f/2/ansuz_id_by_nurizin-d5p3iun.jpg',\n",
       "  'thumbnail': 'https://tse3.mm.bing.net/th?id=OIP.Z6IUWlwIgUt2dZnWNIZ5MgHaHa&pid=Api',\n",
       "  'url': 'http://nurizin.deviantart.com/art/Ansuz-ID-344485679',\n",
       "  'height': 894,\n",
       "  'width': 894,\n",
       "  'source': 'Bing'},\n",
       " {'title': \"ANSUZ L'oracolo delle Rune\",\n",
       "  'image': 'https://runelore.it/images/rune-ansuz.jpg',\n",
       "  'thumbnail': 'https://tse4.explicit.bing.net/th?id=OIP.XS5f8m8xYqwfwQzIfLAVGwHaM_&pid=Api',\n",
       "  'url': 'https://runelore.it/le-rune-significato/ansuz.html',\n",
       "  'height': 100,\n",
       "  'width': 57,\n",
       "  'source': 'Bing'},\n",
       " {'title': 'Ansuz - Runes - T-Shirt | TeePublic',\n",
       "  'image': 'https://res.cloudinary.com/teepublic/image/private/s--yHlU-L7D--/t_Preview/b_rgb:ffffff,c_limit,f_jpg,h_630,q_90,w_630/v1533246162/production/designs/2971665_0.jpg',\n",
       "  'thumbnail': 'https://tse1.mm.bing.net/th?id=OIP.GQQuJhYCbnPQyhH6fvIgGQHaHa&pid=Api',\n",
       "  'url': 'https://www.teepublic.com/t-shirt/2971665-ansuz',\n",
       "  'height': 630,\n",
       "  'width': 630,\n",
       "  'source': 'Bing'},\n",
       " {'title': 'Runa Ansuz y su significado en el Tarot y horóscopo',\n",
       "  'image': 'https://significadorunas.com/wp-content/uploads/2020/05/Runa-vikinga-ansuz-300x150.jpg',\n",
       "  'thumbnail': 'https://tse3.mm.bing.net/th?id=OIP.PcVJEjg5RiFXbDEcoBjBKQAAAA&pid=Api',\n",
       "  'url': 'https://significadorunas.com/runa-ansuz/',\n",
       "  'height': 150,\n",
       "  'width': 300,\n",
       "  'source': 'Bing'},\n",
       " {'title': 'Ansuz rune ᚬ rune - Nomadic Vikings',\n",
       "  'image': 'https://nomadicvikings.com/wp-content/uploads/2020/03/Ansuz-rune.png',\n",
       "  'thumbnail': 'https://tse4.mm.bing.net/th?id=OIP.NZQdFzq4Y2kpE5ZM9kxeTAHaHa&pid=Api',\n",
       "  'url': 'https://nomadicvikings.com/brand/ansuz/',\n",
       "  'height': 500,\n",
       "  'width': 500,\n",
       "  'source': 'Bing'},\n",
       " {'title': 'Ansuz, runes divinatoire et signification',\n",
       "  'image': 'https://www.elemiahvoyance.com/media/k2/items/cache/c4fecaa262b98f9bb0866d705f15b717_XL.jpg',\n",
       "  'thumbnail': 'https://tse3.mm.bing.net/th?id=OIP.seB_VR0Ld7Gx34NkpV14UgHaKX&pid=Api',\n",
       "  'url': 'https://www.elemiahvoyance.com/divination/les-runes/ansuz',\n",
       "  'height': 1260,\n",
       "  'width': 900,\n",
       "  'source': 'Bing'}]"
      ]
     },
     "execution_count": 5,
     "metadata": {},
     "output_type": "execute_result"
    }
   ],
   "source": [
    "runes"
   ]
  },
  {
   "cell_type": "code",
   "execution_count": null,
   "metadata": {},
   "outputs": [],
   "source": []
  }
 ],
 "metadata": {
  "interpreter": {
   "hash": "052e4751c61d1342f547fefb2b66092736da9f244318ad59462b08a98cb91077"
  },
  "kernelspec": {
   "display_name": "Python 3.8.10 ('.venv': venv)",
   "language": "python",
   "name": "python3"
  },
  "language_info": {
   "codemirror_mode": {
    "name": "ipython",
    "version": 3
   },
   "file_extension": ".py",
   "mimetype": "text/x-python",
   "name": "python",
   "nbconvert_exporter": "python",
   "pygments_lexer": "ipython3",
   "version": "3.8.10"
  },
  "orig_nbformat": 4
 },
 "nbformat": 4,
 "nbformat_minor": 2
}
