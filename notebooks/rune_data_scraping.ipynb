{
 "cells": [
  {
   "cell_type": "code",
   "execution_count": 77,
   "metadata": {},
   "outputs": [],
   "source": [
    "from duckduckgo_search import ddg_images\n",
    "\n",
    "from pathlib import Path\n",
    "import requests\n",
    "from PIL import Image, ImageOps\n",
    "from io import BytesIO\n",
    "import os"
   ]
  },
  {
   "cell_type": "code",
   "execution_count": 78,
   "metadata": {},
   "outputs": [],
   "source": [
    "rune_names = ['Ansuz', 'Berkanan', 'Kaunan', 'Dagaz', 'Ehwaz', 'Fehu', 'Gebo',\n",
    "'Hagalaz', 'Isa', 'Jera', 'Kaunaz', 'Laguz', 'Mannaz', 'Nauthiz', 'Othila', 'Peorth', 'Raido', 'Sowulo',\n",
    "'Teiwaz', 'Uruz', 'Wunjo', 'Algiz', 'Eiwaz', 'Thurisaz', 'Inguz']"
   ]
  },
  {
   "cell_type": "markdown",
   "metadata": {},
   "source": [
    "Checking scraping generated data"
   ]
  },
  {
   "cell_type": "code",
   "execution_count": 79,
   "metadata": {},
   "outputs": [],
   "source": [
    "keyword = f'{rune_names[0].lower()} rune'\n",
    "runes = ddg_images(keywords=rune_names[0].lower(), max_results=10)"
   ]
  },
  {
   "cell_type": "code",
   "execution_count": 80,
   "metadata": {},
   "outputs": [
    {
     "data": {
      "text/plain": [
       "{'title': 'Ansuz - The Birch Grove',\n",
       " 'image': 'https://i0.wp.com/thebirchgrove.com/wp-content/uploads/2016/01/ansuz.jpg',\n",
       " 'thumbnail': 'https://tse3.mm.bing.net/th?id=OIP.dZcEdHNbKlPIWhIBU0V99AHaI8&pid=Api',\n",
       " 'url': 'http://thebirchgrove.com/2016/01/25/ansuz/',\n",
       " 'height': 302,\n",
       " 'width': 250,\n",
       " 'source': 'Bing'}"
      ]
     },
     "execution_count": 80,
     "metadata": {},
     "output_type": "execute_result"
    }
   ],
   "source": [
    "runes[1]"
   ]
  },
  {
   "cell_type": "markdown",
   "metadata": {},
   "source": [
    "Setting-up data collection paths"
   ]
  },
  {
   "cell_type": "code",
   "execution_count": 81,
   "metadata": {},
   "outputs": [],
   "source": [
    "data_root = Path('../data').resolve()"
   ]
  },
  {
   "cell_type": "markdown",
   "metadata": {},
   "source": [
    "Download check"
   ]
  },
  {
   "cell_type": "code",
   "execution_count": 82,
   "metadata": {},
   "outputs": [
    {
     "data": {
      "text/plain": [
       "200"
      ]
     },
     "execution_count": 82,
     "metadata": {},
     "output_type": "execute_result"
    }
   ],
   "source": [
    "img = requests.get(runes[0]['image'])\n",
    "img.status_code"
   ]
  },
  {
   "cell_type": "code",
   "execution_count": 83,
   "metadata": {},
   "outputs": [
    {
     "data": {
      "image/png": "[encoded data removed]",
      "text/plain": [
       "<PIL.JpegImagePlugin.JpegImageFile image mode=RGB size=250x302>"
      ]
     },
     "execution_count": 83,
     "metadata": {},
     "output_type": "execute_result"
    }
   ],
   "source": [
    "img = Image.open(BytesIO(img.content))\n",
    "img"
   ]
  },
  {
   "cell_type": "markdown",
   "metadata": {},
   "source": [
    "Image scraping script"
   ]
  },
  {
   "cell_type": "code",
   "execution_count": 85,
   "metadata": {},
   "outputs": [],
   "source": [
    "for rune_name in rune_names[:1]:\n",
    "    save_path = data_root/f'runes/{rune_name.lower()}/'\n",
    "    os.makedirs(save_path, exist_ok=True)\n",
    "    keyword = f'{rune_name.lower()} rune'\n",
    "    runes = ddg_images(keywords=rune_name.lower(), max_results=6)\n",
    "\n",
    "    for i, rune in enumerate(runes):\n",
    "        img = requests.get(rune['image'])\n",
    "        if img.status_code == 200:\n",
    "            img = Image.open(BytesIO(img.content))\n",
    "            img = ImageOps.contain(img, (256, 256))\n",
    "            img.save(save_path/f'{rune_name.lower()}_{i}.png')"
   ]
  },
  {
   "cell_type": "code",
   "execution_count": null,
   "metadata": {},
   "outputs": [],
   "source": []
  }
 ],
 "metadata": {
  "interpreter": {
   "hash": "052e4751c61d1342f547fefb2b66092736da9f244318ad59462b08a98cb91077"
  },
  "kernelspec": {
   "display_name": "Python 3.8.10 ('.venv': venv)",
   "language": "python",
   "name": "python3"
  },
  "language_info": {
   "codemirror_mode": {
    "name": "ipython",
    "version": 3
   },
   "file_extension": ".py",
   "mimetype": "text/x-python",
   "name": "python",
   "nbconvert_exporter": "python",
   "pygments_lexer": "ipython3",
   "version": "3.8.10"
  },
  "orig_nbformat": 4
 },
 "nbformat": 4,
 "nbformat_minor": 2
}
