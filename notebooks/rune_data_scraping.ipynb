{
 "cells": [
  {
   "cell_type": "code",
   "execution_count": 1,
   "metadata": {},
   "outputs": [
    {
     "name": "stderr",
     "output_type": "stream",
     "text": [
      "/home/industark/Desktop/Side Projects/Omnirune/.venv/lib/python3.8/site-packages/fastprogress/fastprogress.py:102: UserWarning: Couldn't import ipywidgets properly, progress bar will use console behavior\n",
      "  warn(\"Couldn't import ipywidgets properly, progress bar will use console behavior\")\n"
     ]
    }
   ],
   "source": [
    "#from duckduckgo_search import ddg_images\n",
    "\n",
    "from pathlib import Path\n",
    "import requests\n",
    "from PIL import Image, ImageOps\n",
    "from io import BytesIO\n",
    "import os\n",
    "import jmd_imagescraper.core as scraper\n",
    "from tqdm import tqdm"
   ]
  },
  {
   "cell_type": "code",
   "execution_count": 2,
   "metadata": {},
   "outputs": [],
   "source": [
    "rune_names = ['Ansuz', 'Berkanan', 'Kaunan', 'Dagaz', 'Ehwaz', 'Fehu', 'Gebo',\n",
    "'Hagalaz', 'Isa', 'Jera', 'Kaunaz', 'Laguz', 'Mannaz', 'Nauthiz', 'Othila', 'Peorth', 'Raido', 'Sowulo',\n",
    "'Teiwaz', 'Uruz', 'Wunjo', 'Algiz', 'Eiwaz', 'Thurisaz', 'Inguz']"
   ]
  },
  {
   "cell_type": "markdown",
   "metadata": {},
   "source": [
    "Setting-up data collection paths"
   ]
  },
  {
   "cell_type": "code",
   "execution_count": 3,
   "metadata": {},
   "outputs": [],
   "source": [
    "data_root = Path('../data').resolve()"
   ]
  },
  {
   "cell_type": "markdown",
   "metadata": {},
   "source": [
    "Image scraping script"
   ]
  },
  {
   "cell_type": "code",
   "execution_count": 5,
   "metadata": {},
   "outputs": [
    {
     "name": "stderr",
     "output_type": "stream",
     "text": [
      "100%|██████████| 4/4 [08:06<00:00, 121.52s/it]\n"
     ]
    }
   ],
   "source": [
    "for rune_name in tqdm(rune_names[21:]):\n",
    "    save_path = data_root/f'runes/{rune_name.lower()}/'\n",
    "    os.makedirs(save_path, exist_ok=True)\n",
    "    keyword = f'{rune_name.lower()} rune'\n",
    "\n",
    "    rune_urls = scraper.duckduckgo_scrape_urls(keywords=keyword, max_results=300)\n",
    "\n",
    "    for i, url in enumerate(rune_urls):\n",
    "        try:\n",
    "            img = requests.get(url)\n",
    "            if img.status_code == 200:\n",
    "                img = Image.open(BytesIO(img.content))\n",
    "                img = ImageOps.contain(img, (256, 256))\n",
    "                img.save(save_path/f'{rune_name.lower()}_{i}.png')\n",
    "        except:\n",
    "            continue"
   ]
  },
  {
   "cell_type": "code",
   "execution_count": null,
   "metadata": {},
   "outputs": [],
   "source": []
  }
 ],
 "metadata": {
  "interpreter": {
   "hash": "052e4751c61d1342f547fefb2b66092736da9f244318ad59462b08a98cb91077"
  },
  "kernelspec": {
   "display_name": "Python 3.8.10 ('.venv': venv)",
   "language": "python",
   "name": "python3"
  },
  "language_info": {
   "codemirror_mode": {
    "name": "ipython",
    "version": 3
   },
   "file_extension": ".py",
   "mimetype": "text/x-python",
   "name": "python",
   "nbconvert_exporter": "python",
   "pygments_lexer": "ipython3",
   "version": "3.8.10"
  },
  "orig_nbformat": 4
 },
 "nbformat": 4,
 "nbformat_minor": 2
}
