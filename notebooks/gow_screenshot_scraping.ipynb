{
 "cells": [
  {
   "cell_type": "code",
   "execution_count": 21,
   "metadata": {},
   "outputs": [],
   "source": [
    "#from duckduckgo_search import ddg_images\n",
    "\n",
    "from pathlib import Path\n",
    "import requests\n",
    "from PIL import Image, ImageOps\n",
    "from io import BytesIO\n",
    "import os\n",
    "import jmd_imagescraper.core as scraper\n",
    "from tqdm import tqdm\n",
    "from google_images_download import google_images_download"
   ]
  },
  {
   "cell_type": "code",
   "execution_count": 22,
   "metadata": {},
   "outputs": [],
   "source": [
    "keywords_list = ['god of war 2018 gameplay screenshot']"
   ]
  },
  {
   "cell_type": "markdown",
   "metadata": {},
   "source": [
    "Setting-up data collection paths"
   ]
  },
  {
   "cell_type": "code",
   "execution_count": 23,
   "metadata": {},
   "outputs": [],
   "source": [
    "data_root = Path('../data').resolve()"
   ]
  },
  {
   "cell_type": "markdown",
   "metadata": {},
   "source": [
    "Image scraping script"
   ]
  },
  {
   "cell_type": "code",
   "execution_count": 25,
   "metadata": {},
   "outputs": [
    {
     "name": "stderr",
     "output_type": "stream",
     "text": [
      "100%|██████████| 1/1 [01:00<00:00, 60.88s/it]\n"
     ]
    }
   ],
   "source": [
    "for keywords in tqdm(keywords_list):\n",
    "    save_path = data_root/f'screenshots/'\n",
    "    os.makedirs(save_path, exist_ok=True)\n",
    "    keyword = keywords.lower()\n",
    "\n",
    "    rune_urls = scraper.duckduckgo_scrape_urls(keywords=keyword, max_results=100)\n",
    "\n",
    "    for i, url in enumerate(rune_urls):\n",
    "        try:\n",
    "            img = requests.get(url)\n",
    "            if img.status_code == 200:\n",
    "                img = Image.open(BytesIO(img.content))\n",
    "                img = ImageOps.contain(img, (1024, 1024))\n",
    "                img.save(save_path/f'screenshot_{i}.png')\n",
    "        except:\n",
    "            continue"
   ]
  },
  {
   "cell_type": "code",
   "execution_count": null,
   "metadata": {},
   "outputs": [],
   "source": []
  }
 ],
 "metadata": {
  "interpreter": {
   "hash": "052e4751c61d1342f547fefb2b66092736da9f244318ad59462b08a98cb91077"
  },
  "kernelspec": {
   "display_name": "Python 3.8.10 ('.venv': venv)",
   "language": "python",
   "name": "python3"
  },
  "language_info": {
   "codemirror_mode": {
    "name": "ipython",
    "version": 3
   },
   "file_extension": ".py",
   "mimetype": "text/x-python",
   "name": "python",
   "nbconvert_exporter": "python",
   "pygments_lexer": "ipython3",
   "version": "3.8.10"
  },
  "orig_nbformat": 4
 },
 "nbformat": 4,
 "nbformat_minor": 2
}
